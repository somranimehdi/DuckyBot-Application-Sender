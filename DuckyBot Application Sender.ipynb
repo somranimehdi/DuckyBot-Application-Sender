{
 "cells": [
  {
   "cell_type": "markdown",
   "source": [
    "# The DuckyBot application sender"
   ],
   "metadata": {
    "collapsed": false,
    "pycharm": {
     "name": "#%% md\n"
    }
   }
  },
  {
   "cell_type": "markdown",
   "source": [
    "## Disclaimer\n",
    "This script is made for educational purpose only, Well I've sent several emails with it but still.\n",
    "**Test it before using it.**\n",
    "**Do at your own risk**"
   ],
   "metadata": {
    "collapsed": false,
    "pycharm": {
     "name": "#%% md\n"
    }
   }
  },
  {
   "cell_type": "markdown",
   "source": [
    "Aaslemaa !\n",
    "My story with end of study internship continue and I had to apply to various companies to increase my chances of finding an inetnship but I didn't have enough time to write an email to each company I made a **Smoll** bot to do it for me.\n",
    "I called him **The DuckyBot**.\n",
    "You liked the idea? Come on, let's go through it."
   ],
   "metadata": {
    "collapsed": false,
    "pycharm": {
     "name": "#%% md\n"
    }
   }
  },
  {
   "cell_type": "markdown",
   "source": [
    "### First things first, I imported the needed libraries."
   ],
   "metadata": {
    "collapsed": false,
    "pycharm": {
     "name": "#%% md\n"
    }
   }
  },
  {
   "cell_type": "code",
   "execution_count": 2,
   "outputs": [],
   "source": [
    "# Importing libraries\n",
    "import smtplib\n",
    "from email.mime.multipart import MIMEMultipart\n",
    "from email.mime.text import MIMEText\n",
    "import pandas as pd"
   ],
   "metadata": {
    "collapsed": false,
    "pycharm": {
     "name": "#%%\n"
    }
   }
  },
  {
   "cell_type": "markdown",
   "source": [
    "### I saved the companies in a csv file, and now we are importing it.\n",
    "The csv file contains the company name, the email, the PFE subjects I choose that we will be using later as subject in the email.\n",
    "\n",
    "\n",
    "![alt text](https://lh6.googleusercontent.com/FW-tnCAY9N0yCkucij4vHu8KVf-iR1NNag7Y9nEp7MPR5iw-k8S3WdQGsEDN3w6oo88=w2400)\n"
   ],
   "metadata": {
    "collapsed": false,
    "pycharm": {
     "name": "#%% md\n"
    }
   }
  },
  {
   "cell_type": "code",
   "execution_count": 3,
   "id": "73f79f6f",
   "metadata": {
    "pycharm": {
     "name": "#%%\n"
    }
   },
   "outputs": [],
   "source": [
    "# Importing The dataframe\n",
    "companies = pd.read_csv(\"companies.csv\")"
   ]
  },
  {
   "cell_type": "markdown",
   "source": [
    "### Configuring a connection"
   ],
   "metadata": {
    "collapsed": false,
    "pycharm": {
     "name": "#%% md\n"
    }
   }
  },
  {
   "cell_type": "code",
   "execution_count": null,
   "outputs": [],
   "source": [
    "# You can change the email provider by changing the server\n",
    "server = smtplib.SMTP('smtp.gmail.com', 587)\n",
    "username = 'YourEmail@gmail.com'\n",
    "# Not your real password, but instead your gmail application password, you can enable it in your settings\n",
    "password = 'YourEmailAppPassword'\n",
    "server.ehlo()\n",
    "server.starttls()\n",
    "\n",
    "# Logging in to Gmail\n",
    "server.login(username,password)"
   ],
   "metadata": {
    "collapsed": false,
    "pycharm": {
     "name": "#%%\n"
    }
   }
  },
  {
   "cell_type": "markdown",
   "source": [
    "### Sending the emails area"
   ],
   "metadata": {
    "collapsed": false,
    "pycharm": {
     "name": "#%% md\n"
    }
   }
  },
  {
   "cell_type": "code",
   "execution_count": 37,
   "id": "3d3c6925",
   "metadata": {
    "pycharm": {
     "name": "#%%\n"
    }
   },
   "outputs": [],
   "source": [
    "# Let the code do its magic\n",
    "# Ps : it's not the most optimized code YET\n",
    "for i in range(len(companies)):\n",
    "    # Change HTML to desired email body\n",
    "    html =f\"This is a simple message <b>html text</b> to send to companies we want to apply to.<br> Thank you <b>{companies['name'][i]}</b>\"\n",
    "    body = MIMEText(html, 'html')\n",
    "    msg = MIMEMultipart('alternative')\n",
    "    # Attaching files\n",
    "    # Email's Body\n",
    "    msg.attach(body)\n",
    "    # Email's attached files ( Your resume for example )\n",
    "    msg.attach(MIMEText(open(resume.pdf).read()))\n",
    "    # The subjects\n",
    "    msg['Subject'] = companies[\"subjects\"][i]\n",
    "    # The sender\n",
    "    msg['From'] = \"YourEmail@gmail.com\"\n",
    "    # The reciever\n",
    "    msg['To'] = companies[\"email\"][i]\n",
    "    server.sendmail(from_address, to_address, msg.as_string())\n",
    "server.quit()"
   ]
  }
 ],
 "metadata": {
  "kernelspec": {
   "display_name": "Python 3 (ipykernel)",
   "language": "python",
   "name": "python3"
  },
  "language_info": {
   "codemirror_mode": {
    "name": "ipython",
    "version": 3
   },
   "file_extension": ".py",
   "mimetype": "text/x-python",
   "name": "python",
   "nbconvert_exporter": "python",
   "pygments_lexer": "ipython3",
   "version": "3.9.12"
  }
 },
 "nbformat": 4,
 "nbformat_minor": 5
}